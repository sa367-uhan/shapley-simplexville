{
 "cells": [
  {
   "cell_type": "markdown",
   "metadata": {},
   "source": [
    "# Shapley Sneakers and Primal Praline Company, revisited"
   ]
  },
  {
   "cell_type": "markdown",
   "metadata": {},
   "source": [
    "Place any setup code that you need (e.g. `import` statements) in the cell below."
   ]
  },
  {
   "cell_type": "code",
   "execution_count": null,
   "metadata": {},
   "outputs": [],
   "source": []
  },
  {
   "cell_type": "markdown",
   "metadata": {},
   "source": [
    "## Shapley Sneakers"
   ]
  },
  {
   "cell_type": "markdown",
   "metadata": {},
   "source": [
    "The Shapley Sneaker Company is opening a new factory in Simplexville. One of its major purchases will be a leather cutting machine. The cost of maintaining a machine depends on its age as follows:\n",
    "\n",
    "| Age at beginning of year (years)    |      0 |      1 |      2 |       3 |       4 |\n",
    "|:------------------------------------|-------:|-------:|-------:|--------:|--------:|\n",
    "| Maintenance cost for next year (\\$) | 38,000 | 50,000 | 97,000 | 182,000 | 304,000 |\n",
    "\n",
    "The cost of purchasing a machine at the beginning of each year is:\n",
    "\n",
    "| Year               |       1 |       2 |       3 |       4 |       5 |\n",
    "|:-------------------|--------:|--------:|--------:|--------:|--------:|\n",
    "| Purchase cost (\\$) | 170,000 | 190,000 | 210,000 | 250,000 | 300,000 |\n",
    "\n",
    "There is no trade-in value when a machine is replaced. The company's goal is to minimize the total cost (purchase plus maintenance) of having a machine for five years. \n",
    "\n",
    "Once upon a time, for homework, you formulated this problem as a shortest path problem.\n",
    "\n",
    "1. Solve your shortest path formulation: give the shortest path length and a shortest path.\n",
    "2. Interpret the shortest path length and shortest path in the context of the problem."
   ]
  },
  {
   "cell_type": "code",
   "execution_count": null,
   "metadata": {},
   "outputs": [],
   "source": [
    "# Write your code here\n"
   ]
  },
  {
   "cell_type": "markdown",
   "metadata": {},
   "source": [
    "_Write your notes here. Double-click to edit._"
   ]
  },
  {
   "cell_type": "markdown",
   "metadata": {},
   "source": [
    "## Primal Praline Company"
   ]
  },
  {
   "cell_type": "markdown",
   "metadata": {},
   "source": [
    "The Primal Praline Company needs to have a working candy making machine during each of the next six years.\n",
    "Currently, it has a new machine.\n",
    "At the beginning of each year, the company may keep the machine or sell it and buy a new one.\n",
    "A new machine costs \\$5000, and cannot be kept for more than three years.\n",
    "The revenues earned by a machine, the cost of maintaining it, and the salvage value that can be obtained by selling it at the end of a year depend on the age of the machine:\n",
    "\n",
    "| Age of machine at the beginning of year | 0 years | 1 years | 2 years |\n",
    "|:----------------------------------------|--------:|--------:|--------:|\n",
    "| Revenues                                | 4,500   | 3,000   | 1,500   |\n",
    "| Operating costs                         | 500     | 700     | 1,100   |\n",
    "| Salvage value at the end of year        | 3,000   | 1,800   | 500     |\n",
    "\n",
    "The company's problem is to maximize the net profit it earns over the next six\n",
    "years.\n",
    "\n",
    "Once upon a time, you formulated this as a shortest path problem.\n",
    "\n",
    "1. Solve your shortest path formulation: give the shortest path length and a shortest path.\n",
    "2. Interpret the shortest path length and shortest path in the context of the problem."
   ]
  },
  {
   "cell_type": "code",
   "execution_count": null,
   "metadata": {},
   "outputs": [],
   "source": [
    "# Write your code here\n"
   ]
  },
  {
   "cell_type": "markdown",
   "metadata": {},
   "source": [
    "_Write your notes here. Double-click to edit._"
   ]
  }
 ],
 "metadata": {
  "kernelspec": {
   "display_name": "Python 3",
   "language": "python",
   "name": "python3"
  },
  "language_info": {
   "codemirror_mode": {
    "name": "ipython",
    "version": 3
   },
   "file_extension": ".py",
   "mimetype": "text/x-python",
   "name": "python",
   "nbconvert_exporter": "python",
   "pygments_lexer": "ipython3",
   "version": "3.6.4"
  }
 },
 "nbformat": 4,
 "nbformat_minor": 1
}
