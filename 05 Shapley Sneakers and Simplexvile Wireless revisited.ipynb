{
 "cells": [
  {
   "cell_type": "markdown",
   "metadata": {},
   "source": [
    "# Shapley Sneakers and Simplexville Wireless, revisited"
   ]
  },
  {
   "cell_type": "markdown",
   "metadata": {},
   "source": [
    "Place any setup code that you need (e.g. `import` statements) in the cell below."
   ]
  },
  {
   "cell_type": "code",
   "execution_count": null,
   "metadata": {
    "collapsed": false
   },
   "outputs": [],
   "source": [
    "import networkx as nx\n",
    "import bellmanford as bf"
   ]
  },
  {
   "cell_type": "markdown",
   "metadata": {},
   "source": [
    "## Shapley Sneakers"
   ]
  },
  {
   "cell_type": "markdown",
   "metadata": {},
   "source": [
    "The Shapley Sneaker Company is opening a new factory in Simplexville. One of its major purchases will be a leather cutting machine. The cost of maintaining a machine depends on its age as follows:\n",
    "\n",
    "| Age at beginning of year (years)    |      0 |      1 |      2 |       3 |       4 |\n",
    "|:------------------------------------|-------:|-------:|-------:|--------:|--------:|\n",
    "| Maintenance cost for next year (\\$) | 38,000 | 50,000 | 97,000 | 182,000 | 304,000 |\n",
    "\n",
    "The cost of purchasing a machine at the beginning of each year is:\n",
    "\n",
    "| Year               |       1 |       2 |       3 |       4 |       5 |\n",
    "|:-------------------|--------:|--------:|--------:|--------:|--------:|\n",
    "| Purchase cost (\\$) | 170,000 | 190,000 | 210,000 | 250,000 | 300,000 |\n",
    "\n",
    "There is no trade-in value when a machine is replaced. The company's goal is to minimize the total cost (purchase plus maintenance) of having a machine for five years. \n",
    "\n",
    "Once upon a time, for homework, you formulated this problem as a shortest path problem.\n",
    "\n",
    "1. Solve your shortest path formulation: give the shortest path length and a shortest path.\n",
    "2. Interpret the shortest path length and shortest path in the context of the problem."
   ]
  },
  {
   "cell_type": "code",
   "execution_count": null,
   "metadata": {
    "collapsed": false
   },
   "outputs": [],
   "source": [
    "# Write your code here\n",
    "# Create empty graph\n",
    "G = nx.DiGraph()\n",
    "\n",
    "# Add nodes\n",
    "# Recall that range(1, 7) is equivalent to [1, 2, 3, 4, 5, 6]\n",
    "for i in range(1, 7): \n",
    "    G.add_node(i)\n",
    "\n",
    "# Add edges and edge lengths\n",
    "G.add_edge(1, 2, length=218)\n",
    "G.add_edge(1, 3, length=258)\n",
    "G.add_edge(1, 4, length=355)\n",
    "G.add_edge(1, 5, length=537)\n",
    "G.add_edge(1, 6, length=841)\n",
    "G.add_edge(2, 3, length=228)\n",
    "G.add_edge(2, 4, length=278)\n",
    "G.add_edge(2, 5, length=375)\n",
    "G.add_edge(2, 6, length=557)\n",
    "G.add_edge(3, 4, length=248)\n",
    "G.add_edge(3, 5, length=298)\n",
    "G.add_edge(3, 6, length=395)\n",
    "G.add_edge(4, 5, length=288)\n",
    "G.add_edge(4, 6, length=338)\n",
    "G.add_edge(5, 6, length=338)\n",
    "\n",
    "# Solve for shortest path from 1 to 6\n",
    "path_length, path_nodes, negative_cycle = bf.bellman_ford(G, source=1, target=6, weight=\"length\")\n",
    "print(\"Negative cycle? {0}\".format(negative_cycle))\n",
    "print(\"Shortest path length = {0}\".format(path_length))\n",
    "print(\"Shortest path = {0}\".format(path_nodes))"
   ]
  },
  {
   "cell_type": "markdown",
   "metadata": {},
   "source": [
    "_Interpretation._ The nodes in the shortest path correspond to when the company should buy a new machine in order to minimize the total cost of having a machine over 5 years: it should buy a new machine in years 1 and 3.\n",
    "\n",
    "The length of the shortest path is the minimum total cost of having a machine over 5 years, which is \\$653,000."
   ]
  },
  {
   "cell_type": "markdown",
   "metadata": {},
   "source": [
    "## Simplexville Wireless"
   ]
  },
  {
   "cell_type": "markdown",
   "metadata": {},
   "source": [
    "Simplexville Wireless is about to expand its hotspot offerings around town. The activities below must be completed before the service expansion is completed:\n",
    "\n",
    "| Activity | Description                                    | Predecessors | Duration (weeks) |\n",
    "|:---------|:-----------------------------------------------|:-------------|:-----------------|\n",
    "| A        | Choose new hotspot locations                   | -            | 2                |\n",
    "| B        | Get town council to approve expansion          | A            | 4                |\n",
    "| C        | Order hotspot routers needed to expand service | B            | 3                |\n",
    "| D        | Install cable to support additional bandwidth  | B            | 2                |\n",
    "| E        | Install hotspot routers                        | C, D         | 10               |\n",
    "| F        | Change billing system                          | B            | 4                |\n",
    "\n",
    "The company's goal is to find the earliest time that the expansion can be completed.\n",
    "\n",
    "Once upon a time, for homework, you formulated this problem as a shortest path problem.\n",
    "\n",
    "1. Solve your shortest path formulation: give the shortest path length and a shortest path.\n",
    "2. Interpret the shortest path length and shortest path in the context of the problem."
   ]
  },
  {
   "cell_type": "code",
   "execution_count": null,
   "metadata": {
    "collapsed": false
   },
   "outputs": [],
   "source": [
    "# Write your code here\n",
    "# Create empty graph\n",
    "H = nx.DiGraph()\n",
    "\n",
    "# Add nodes\n",
    "H.add_node(\"start\")\n",
    "H.add_node(\"A\")\n",
    "H.add_node(\"B\")\n",
    "H.add_node(\"C\")\n",
    "H.add_node(\"D\")\n",
    "H.add_node(\"E\")\n",
    "H.add_node(\"F\")\n",
    "H.add_node(\"finish\")\n",
    "\n",
    "# Add edges and edge lengths\n",
    "H.add_edge(\"start\", \"A\", length=0)\n",
    "H.add_edge(\"A\", \"B\", length=-2)\n",
    "H.add_edge(\"B\", \"C\", length=-4)\n",
    "H.add_edge(\"B\", \"D\", length=-4)\n",
    "H.add_edge(\"B\", \"F\", length=-4)\n",
    "H.add_edge(\"C\", \"E\", length=-3)\n",
    "H.add_edge(\"D\", \"E\", length=-2)\n",
    "H.add_edge(\"E\", \"finish\", length=-10)\n",
    "H.add_edge(\"F\", \"finish\", length=-4)\n",
    "\n",
    "# Solve for shortest path from start to finish\n",
    "path_length, path_nodes, negative_cycle = bf.bellman_ford(H, source=\"start\", target=\"finish\", weight=\"length\")\n",
    "print(\"Negative cycle? {0}\".format(negative_cycle))\n",
    "print(\"Shortest path length = {0}\".format(path_length))\n",
    "print(\"Shortest path = {0}\".format(path_nodes))"
   ]
  },
  {
   "cell_type": "markdown",
   "metadata": {},
   "source": [
    "_Interpretation._ The nodes in the shortest path correspond to the _critical activities_, the activities that would delay completion of the entire expansion if they take longer than their given durations. In this case, the critical activities are A, B, C, and E.\n",
    "\n",
    "The length of the shortest path is the _negative_ of the earliest time that the expansion can be completed. Therefore, the earliest time that the expansion can be completed is in 19 weeks."
   ]
  }
 ],
 "metadata": {
  "kernelspec": {
   "display_name": "Python 3",
   "language": "python",
   "name": "python3"
  },
  "language_info": {
   "codemirror_mode": {
    "name": "ipython",
    "version": 3
   },
   "file_extension": ".py",
   "mimetype": "text/x-python",
   "name": "python",
   "nbconvert_exporter": "python",
   "pygments_lexer": "ipython3",
   "version": "3.5.2"
  }
 },
 "nbformat": 4,
 "nbformat_minor": 0
}
