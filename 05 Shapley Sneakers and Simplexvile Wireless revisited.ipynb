{
 "cells": [
  {
   "cell_type": "markdown",
   "metadata": {},
   "source": [
    "# Shapley Sneakers and Simplexville Wireless, revisited"
   ]
  },
  {
   "cell_type": "markdown",
   "metadata": {},
   "source": [
    "## Shapley Sneakers"
   ]
  },
  {
   "cell_type": "markdown",
   "metadata": {},
   "source": [
    "The Shapley Sneaker Company is opening a new factory in Simplexville. One of its major purchases will be a leather cutting machine. The cost of maintaining a machine depends on its age as follows:\n",
    "\n",
    "| Age at beginning of year (years)    |      0 |      1 |      2 |       3 |       4 |\n",
    "|:------------------------------------|-------:|-------:|-------:|--------:|--------:|\n",
    "| Maintenance cost for next year (\\$) | 38,000 | 50,000 | 97,000 | 182,000 | 304,000 |\n",
    "\n",
    "The cost of purchasing a machine at the beginning of each year is:\n",
    "\n",
    "| Year               |       1 |       2 |       3 |       4 |       5 |\n",
    "|:-------------------|--------:|--------:|--------:|--------:|--------:|\n",
    "| Purchase cost (\\$) | 170,000 | 190,000 | 210,000 | 250,000 | 300,000 |\n",
    "\n",
    "There is no trade-in value when a machine is replaced. The company's goal is to minimize the total cost (purchase plus maintenance) of having a machine for five years. \n",
    "\n",
    "Once upon a time, for homework, you formulated this problem as a shortest path problem.\n",
    "\n",
    "1. Solve your shortest path formulation: give the shortest path length and a shortest path.\n",
    "2. Interpret the shortest path length and shortest path in the context of the problem."
   ]
  },
  {
   "cell_type": "code",
   "execution_count": null,
   "metadata": {
    "collapsed": true
   },
   "outputs": [],
   "source": [
    "# Write your code here\n"
   ]
  },
  {
   "cell_type": "markdown",
   "metadata": {},
   "source": [
    "_Write your notes here. Double-click to edit._"
   ]
  },
  {
   "cell_type": "markdown",
   "metadata": {},
   "source": [
    "## Simplexville Wireless"
   ]
  },
  {
   "cell_type": "markdown",
   "metadata": {},
   "source": [
    "Simplexville Wireless is about to expand its hotspot offerings around town. The activities below must be completed before the service expansion is completed:\n",
    "\n",
    "| Activity | Description                                    | Predecessors | Duration (weeks) |\n",
    "|:---------|:-----------------------------------------------|:-------------|:-----------------|\n",
    "| A        | Choose new hotspot locations                   | -            | 2                |\n",
    "| B        | Get town council to approve expansion          | A            | 4                |\n",
    "| C        | Order hotspot routers needed to expand service | B            | 3                |\n",
    "| D        | Install cable to support additional bandwidth  | B            | 2                |\n",
    "| E        | Install hotspot routers                        | C, D         | 10               |\n",
    "| F        | Change billing system                          | B            | 4                |\n",
    "\n",
    "The company's goal is to find the earliest time that the expansion can be completed.\n",
    "\n",
    "Once upon a time, for homework, you formulated this problem as a shortest path problem.\n",
    "\n",
    "1. Solve your shortest path formulation: give the shortest path length and a shortest path.\n",
    "2. Interpret the shortest path length and shortest path in the context of the problem."
   ]
  },
  {
   "cell_type": "code",
   "execution_count": null,
   "metadata": {
    "collapsed": true
   },
   "outputs": [],
   "source": [
    "# Write your code here\n"
   ]
  },
  {
   "cell_type": "markdown",
   "metadata": {},
   "source": [
    "_Write your notes here. Double-click to edit._"
   ]
  }
 ],
 "metadata": {
  "kernelspec": {
   "display_name": "Python 3",
   "language": "python",
   "name": "python3"
  },
  "language_info": {
   "codemirror_mode": {
    "name": "ipython",
    "version": 3
   },
   "file_extension": ".py",
   "mimetype": "text/x-python",
   "name": "python",
   "nbconvert_exporter": "python",
   "pygments_lexer": "ipython3",
   "version": "3.5.2"
  }
 },
 "nbformat": 4,
 "nbformat_minor": 0
}
