{
 "cells": [
  {
   "cell_type": "markdown",
   "metadata": {},
   "source": [
    "# Shapley Sneakers and Primal Praline Company, revisited"
   ]
  },
  {
   "cell_type": "markdown",
   "metadata": {},
   "source": [
    "Place any setup code that you need (e.g. `import` statements) in the cell below."
   ]
  },
  {
   "cell_type": "code",
   "execution_count": 1,
   "metadata": {},
   "outputs": [],
   "source": [
    "import networkx as nx\n",
    "import bellmanford as bf"
   ]
  },
  {
   "cell_type": "markdown",
   "metadata": {},
   "source": [
    "## Shapley Sneakers"
   ]
  },
  {
   "cell_type": "markdown",
   "metadata": {},
   "source": [
    "The Shapley Sneaker Company is opening a new factory in Simplexville. One of its major purchases will be a leather cutting machine. The cost of maintaining a machine depends on its age as follows:\n",
    "\n",
    "| Age at beginning of year (years)    |      0 |      1 |      2 |       3 |       4 |\n",
    "|:------------------------------------|-------:|-------:|-------:|--------:|--------:|\n",
    "| Maintenance cost for next year (\\$) | 38,000 | 50,000 | 97,000 | 182,000 | 304,000 |\n",
    "\n",
    "The cost of purchasing a machine at the beginning of each year is:\n",
    "\n",
    "| Year               |       1 |       2 |       3 |       4 |       5 |\n",
    "|:-------------------|--------:|--------:|--------:|--------:|--------:|\n",
    "| Purchase cost (\\$) | 170,000 | 190,000 | 210,000 | 250,000 | 300,000 |\n",
    "\n",
    "There is no trade-in value when a machine is replaced. The company's goal is to minimize the total cost (purchase plus maintenance) of having a machine for five years. \n",
    "\n",
    "Once upon a time, for homework, you formulated this problem as a shortest path problem.\n",
    "\n",
    "1. Solve your shortest path formulation: give the shortest path length and a shortest path.\n",
    "2. Interpret the shortest path length and shortest path in the context of the problem."
   ]
  },
  {
   "cell_type": "code",
   "execution_count": 2,
   "metadata": {},
   "outputs": [
    {
     "name": "stdout",
     "output_type": "stream",
     "text": [
      "Negative cycle? False\n",
      "Shortest path length = 653\n",
      "Shortest path = [1, 3, 6]\n"
     ]
    }
   ],
   "source": [
    "# Write your code here\n",
    "# Create empty graph\n",
    "G = nx.DiGraph()\n",
    "\n",
    "# Add nodes\n",
    "# Recall that range(1, 7) is equivalent to [1, 2, 3, 4, 5, 6]\n",
    "for i in range(1, 7): \n",
    "    G.add_node(i)\n",
    "\n",
    "# Add edges and edge lengths\n",
    "G.add_edge(1, 2, length=218)\n",
    "G.add_edge(1, 3, length=258)\n",
    "G.add_edge(1, 4, length=355)\n",
    "G.add_edge(1, 5, length=537)\n",
    "G.add_edge(1, 6, length=841)\n",
    "G.add_edge(2, 3, length=228)\n",
    "G.add_edge(2, 4, length=278)\n",
    "G.add_edge(2, 5, length=375)\n",
    "G.add_edge(2, 6, length=557)\n",
    "G.add_edge(3, 4, length=248)\n",
    "G.add_edge(3, 5, length=298)\n",
    "G.add_edge(3, 6, length=395)\n",
    "G.add_edge(4, 5, length=288)\n",
    "G.add_edge(4, 6, length=338)\n",
    "G.add_edge(5, 6, length=338)\n",
    "\n",
    "# Solve for shortest path from 1 to 6\n",
    "path_length, path_nodes, negative_cycle = bf.bellman_ford(G, source=1, target=6, weight=\"length\")\n",
    "print(f\"Negative cycle? {negative_cycle}\")\n",
    "print(f\"Shortest path length = {path_length}\")\n",
    "print(f\"Shortest path = {path_nodes}\")"
   ]
  },
  {
   "cell_type": "markdown",
   "metadata": {},
   "source": [
    "_Interpretation._ The nodes in the shortest path correspond to when the company should buy a new machine in order to minimize the total cost of having a machine over 5 years: it should buy a new machine in years 1 and 3.\n",
    "\n",
    "The length of the shortest path is the minimum total cost of having a machine over 5 years, which is \\$653,000."
   ]
  },
  {
   "cell_type": "markdown",
   "metadata": {},
   "source": [
    "## Primal Praline Company"
   ]
  },
  {
   "cell_type": "markdown",
   "metadata": {},
   "source": [
    "The Primal Praline Company needs to have a working candy making machine during each of the next six years.\n",
    "Currently, it has a new machine.\n",
    "At the beginning of each year, the company may keep the machine or sell it and buy a new one.\n",
    "A new machine costs \\$5000, and cannot be kept for more than three years.\n",
    "The revenues earned by a machine, the cost of maintaining it, and the salvage value that can be obtained by selling it at the end of a year depend on the age of the machine:\n",
    "\n",
    "| Age of machine at the beginning of year | 0 years | 1 years | 2 years |\n",
    "|:----------------------------------------|--------:|--------:|--------:|\n",
    "| Revenues                                | 4,500   | 3,000   | 1,500   |\n",
    "| Operating costs                         | 500     | 700     | 1,100   |\n",
    "| Salvage value at the end of year        | 3,000   | 1,800   | 500     |\n",
    "\n",
    "The company's problem is to maximize the net profit it earns over the next six\n",
    "years.\n",
    "\n",
    "Once upon a time, you formulated this as a shortest path problem.\n",
    "\n",
    "1. Solve your shortest path formulation: give the shortest path length and a shortest path.\n",
    "2. Interpret the shortest path length and shortest path in the context of the problem."
   ]
  },
  {
   "cell_type": "code",
   "execution_count": 3,
   "metadata": {},
   "outputs": [
    {
     "name": "stdout",
     "output_type": "stream",
     "text": [
      "Negative cycle? False\n",
      "Shortest path length = -17000\n",
      "Shortest path = [1, 2, 3, 4, 5, 6, 7]\n"
     ]
    }
   ],
   "source": [
    "# Write your code here\n",
    "# Create empty graph\n",
    "H = nx.DiGraph()\n",
    "\n",
    "# Add nodes\n",
    "for i in range(1, 8):\n",
    "    H.add_node(i)\n",
    "\n",
    "# Add edges and edge lengths\n",
    "H.add_edge(1, 2, length=-7000)\n",
    "H.add_edge(1, 3, length=-8100)\n",
    "H.add_edge(1, 4, length=-7200)\n",
    "H.add_edge(2, 3, length=-2000)\n",
    "H.add_edge(2, 4, length=-3100)\n",
    "H.add_edge(2, 5, length=-2200)\n",
    "H.add_edge(3, 4, length=-2000)\n",
    "H.add_edge(3, 5, length=-3100)\n",
    "H.add_edge(3, 6, length=-2200)\n",
    "H.add_edge(4, 5, length=-2000)\n",
    "H.add_edge(4, 6, length=-3100)\n",
    "H.add_edge(4, 7, length=-2200)\n",
    "H.add_edge(5, 6, length=-2000)\n",
    "H.add_edge(5, 7, length=-3100)\n",
    "H.add_edge(6, 7, length=-2000)\n",
    "\n",
    "# Solve for shortest path from start to finish\n",
    "path_length, path_nodes, negative_cycle = bf.bellman_ford(H, source=1, target=7, weight=\"length\")\n",
    "print(f\"Negative cycle? {negative_cycle}\")\n",
    "print(f\"Shortest path length = {path_length}\")\n",
    "print(f\"Shortest path = {path_nodes}\")"
   ]
  },
  {
   "cell_type": "markdown",
   "metadata": {},
   "source": [
    "_Interpretation._ The nodes in the shortest path correspond to when the company should purchase a new machine in order to maximize its net profit over the next 6 years: the company should use its existing machine in year 1, and buy a new machine in years 2, 3, 4, 5 and 6 (i.e. every year).\n",
    "\n",
    "The length of the shortest path is the _negative_ of the maximum net profit it can earn over the next six years, which is $17,000."
   ]
  }
 ],
 "metadata": {
  "kernelspec": {
   "display_name": "Python 3",
   "language": "python",
   "name": "python3"
  },
  "language_info": {
   "codemirror_mode": {
    "name": "ipython",
    "version": 3
   },
   "file_extension": ".py",
   "mimetype": "text/x-python",
   "name": "python",
   "nbconvert_exporter": "python",
   "pygments_lexer": "ipython3",
   "version": "3.6.4"
  }
 },
 "nbformat": 4,
 "nbformat_minor": 1
}
